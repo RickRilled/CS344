{
 "cells": [
  {
   "cell_type": "markdown",
   "metadata": {},
   "source": [
    "Since the last project walkthrough, I have made a few key updates. Firstly I changed the implementation to use individual characters instead of full words. After discussing it with Professor Vander Linden, we concluded that would give the best results, and would, critically, be possible, unlike the word enneagram. One of the most significant changes I made was to throw out the script idea and use one-liner jokes. Scripts are much harder to model than I expected, so i narrowed my scope to answer the question: Can computers be funny? I’ve also fine tuned the hyperparameters for the model, namly batch size and temperature. \n"
   ]
  },
  {
   "cell_type": "code",
   "execution_count": null,
   "metadata": {},
   "outputs": [],
   "source": []
  }
 ],
 "metadata": {
  "kernelspec": {
   "display_name": "Python 3",
   "language": "python",
   "name": "python3"
  },
  "language_info": {
   "codemirror_mode": {
    "name": "ipython",
    "version": 3
   },
   "file_extension": ".py",
   "mimetype": "text/x-python",
   "name": "python",
   "nbconvert_exporter": "python",
   "pygments_lexer": "ipython3",
   "version": "3.7.0"
  }
 },
 "nbformat": 4,
 "nbformat_minor": 2
}
