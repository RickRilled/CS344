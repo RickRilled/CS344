{
 "cells": [
  {
   "cell_type": "heading",
   "metadata": {
    "collapsed": true
   },
   "level": 1,
   "source": [
    "Homework 1"
   ]
  },
  {
   "cell_type": "heading",
   "metadata": {},
   "level": 2,
   "source": [
    "Royce Lloyd, 2/22/2019, for CS344 at Calvin College"
   ]
  },
  {
   "cell_type": "heading",
   "metadata": {},
   "level": 3,
   "source": [
    "Professor Vander Linden"
   ]
  },
  {
   "cell_type": "markdown",
   "metadata": {},
   "source": [
    "*ADD SHIT"
   ]
  },
  {
   "cell_type": "code",
   "execution_count": 2,
   "metadata": {},
   "outputs": [
    {
     "name": "stdout",
     "output_type": "stream",
     "text": [
      "[0, 22, 5, 3, 4, 14, 6, 13, 8, 19, 7, 12, 11, 20, 17, 15, 16, 18, 2, 9, 10, 24, 23, 1, 21]\n1592\n"
     ]
    },
    {
     "name": "stdout",
     "output_type": "stream",
     "text": [
      "[11, 20, 17, 22, 10, 19, 6, 5, 16, 18, 1, 12, 3, 8, 21, 14, 23, 2, 13, 4, 24, 15, 0, 7, 9]\n1558\n"
     ]
    }
   ],
   "source": [
    "\"\"\"\n",
    "This file solves the TSP problem using Hill Climbing and SA.\n",
    "It can be configured with random distances and number of cities\n",
    "\n",
    "Written by Royce Lloyd for CS 344 at Calvin College\n",
    "2/22/2019\n",
    "\"\"\"\n",
    "\n",
    "from search import Problem, hill_climbing, simulated_annealing, \\\n",
    "    exp_schedule, genetic_search\n",
    "from random import randrange\n",
    "import math\n",
    "\n",
    "\n",
    "class TSP(Problem):\n",
    "    \"\"\"\n",
    "    State: x value for the abs function variant f(x)\n",
    "    Move: a new x value delta steps from the current x (in both directions)\n",
    "    \"\"\"\n",
    "\n",
    "    def __init__(self, numCities):\n",
    "        self.numCities = numCities\n",
    "        self.citiesDistances = []\n",
    "        self.distances = []\n",
    "        self.distancesMatrix = []\n",
    "\n",
    "        self.initial = []\n",
    "\n",
    "        for x in range(0, numCities):\n",
    "            self.initial.append(x)\n",
    "\n",
    "        \"\"\"\n",
    "        This was the best way I found to create a bunch of random distance values that was guaranteed to have\n",
    "        enough values for each city\n",
    "        \"\"\"\n",
    "\n",
    "        decrement = 1\n",
    "        for city in range(numCities):\n",
    "            for paths in range(numCities - decrement):\n",
    "                value = randrange(25, 100)\n",
    "                self.distances.append(value)\n",
    "            decrement += 1\n",
    "\n",
    "\n",
    "        for city in range(0, numCities):\n",
    "            cityArray = []\n",
    "            for x in range(0, numCities ):\n",
    "                cityArray.append(self.distances[randrange(0, len(self.distances))])\n",
    "            self.distancesMatrix.append(cityArray)\n",
    "\n",
    "\n",
    "\n",
    "        for x in range(0, numCities):\n",
    "            for city in range(0, numCities):\n",
    "                self.distancesMatrix[x][city] = self.distancesMatrix[city][x]\n",
    "\n",
    "    def actions(self, state):\n",
    "        idea_list = []\n",
    "\n",
    "        for x in range(0, self.numCities):\n",
    "            for y in range(0, self.numCities):\n",
    "                if(x != y):\n",
    "                    idea = [x, y]\n",
    "                    idea_list.append(idea)\n",
    "        return idea_list\n",
    "\n",
    "    def result(self, state, action):\n",
    "        state_copy = state[:]\n",
    "        temp_state = state_copy[action[0]]\n",
    "        state_copy[action[0]] = state_copy[action[1]]\n",
    "        state_copy[action[1]] = temp_state\n",
    "        return state_copy\n",
    "\n",
    "\n",
    "    def value(self, state):\n",
    "        sum = 0\n",
    "\n",
    "        for x in range(0, len(state)):\n",
    "            cityA = state[x]\n",
    "            cityB = state[(x + 1) % len(state)]\n",
    "            sum += self.distancesMatrix[cityA][cityB]\n",
    "        maxDistance = 100 * numCities\n",
    "        sum = maxDistance - sum\n",
    "        return sum\n",
    "\n",
    "\n",
    "if __name__ == '__main__':\n",
    "\n",
    "    numCities = 25\n",
    "\n",
    "    p = TSP(numCities)\n",
    "\n",
    "    #Solve the problem using hill-climbing.\n",
    "    hill_solution = hill_climbing(p)\n",
    "    print(str(hill_solution))\n",
    "    print(p.value(hill_solution))\n",
    "\n",
    "    #Solve the problem with SA\n",
    "    annealing_solution = simulated_annealing(\n",
    "        p,\n",
    "        exp_schedule(k=20, lam=0.005, limit=1000)\n",
    "    )\n",
    "    print(str(annealing_solution))\n",
    "    print(p.value(annealing_solution))"
   ]
  },
  {
   "cell_type": "code",
   "execution_count": 4,
   "metadata": {},
   "outputs": [
    {
     "name": "stdout",
     "output_type": "stream",
     "text": [
      "{'CS108': 'nh253 mwf0800 Adams', 'CS344': 'nh253 mwf0800 Adams', 'CS336': 'nh253 mwf0800 Adams', 'CS212': 'nh253 mwf0800 Adams', 'CS232': 'nh253 mwf0800 Adams', 'CS112': 'nh253 mwf0800 Adams'}\n"
     ]
    },
    {
     "ename": "KeyError",
     "evalue": "'mwf0800'",
     "traceback": [
      "\u001b[0;31m---------------------------------------------------------------------------\u001b[0m",
      "\u001b[0;31mKeyError\u001b[0m                                  Traceback (most recent call last)",
      "\u001b[0;32m<ipython-input-4-22091dedd14e>\u001b[0m in \u001b[0;36m<module>\u001b[0;34m()\u001b[0m\n\u001b[1;32m     54\u001b[0m \u001b[0;34m\u001b[0m\u001b[0m\n\u001b[1;32m     55\u001b[0m \u001b[0mprint\u001b[0m\u001b[0;34m(\u001b[0m\u001b[0mbacktracking_search\u001b[0m\u001b[0;34m(\u001b[0m\u001b[0mscheduler\u001b[0m\u001b[0;34m(\u001b[0m\u001b[0;34m)\u001b[0m\u001b[0;34m)\u001b[0m\u001b[0;34m)\u001b[0m\u001b[0;34m\u001b[0m\u001b[0m\n\u001b[0;32m---> 56\u001b[0;31m \u001b[0mprint\u001b[0m\u001b[0;34m(\u001b[0m\u001b[0mAC3\u001b[0m\u001b[0;34m(\u001b[0m\u001b[0mscheduler\u001b[0m\u001b[0;34m(\u001b[0m\u001b[0;34m)\u001b[0m\u001b[0;34m)\u001b[0m\u001b[0;34m)\u001b[0m\u001b[0;34m\u001b[0m\u001b[0m\n\u001b[0m\u001b[1;32m     57\u001b[0m \u001b[0mprint\u001b[0m\u001b[0;34m(\u001b[0m\u001b[0mmin_conflicts\u001b[0m\u001b[0;34m(\u001b[0m\u001b[0mscheduler\u001b[0m\u001b[0;34m(\u001b[0m\u001b[0;34m)\u001b[0m\u001b[0;34m)\u001b[0m\u001b[0;34m)\u001b[0m\u001b[0;34m\u001b[0m\u001b[0m\n",
      "\u001b[0;32m/home/ril2/Desktop/Pycharm/cs344-code/tools/aima/csp.py\u001b[0m in \u001b[0;36mAC3\u001b[0;34m(csp, queue, removals)\u001b[0m\n\u001b[1;32m    165\u001b[0m     \u001b[0;32mwhile\u001b[0m \u001b[0mqueue\u001b[0m\u001b[0;34m:\u001b[0m\u001b[0;34m\u001b[0m\u001b[0m\n\u001b[1;32m    166\u001b[0m         \u001b[0;34m(\u001b[0m\u001b[0mXi\u001b[0m\u001b[0;34m,\u001b[0m \u001b[0mXj\u001b[0m\u001b[0;34m)\u001b[0m \u001b[0;34m=\u001b[0m \u001b[0mqueue\u001b[0m\u001b[0;34m.\u001b[0m\u001b[0mpop\u001b[0m\u001b[0;34m(\u001b[0m\u001b[0;34m)\u001b[0m\u001b[0;34m\u001b[0m\u001b[0m\n\u001b[0;32m--> 167\u001b[0;31m         \u001b[0;32mif\u001b[0m \u001b[0mrevise\u001b[0m\u001b[0;34m(\u001b[0m\u001b[0mcsp\u001b[0m\u001b[0;34m,\u001b[0m \u001b[0mXi\u001b[0m\u001b[0;34m,\u001b[0m \u001b[0mXj\u001b[0m\u001b[0;34m,\u001b[0m \u001b[0mremovals\u001b[0m\u001b[0;34m)\u001b[0m\u001b[0;34m:\u001b[0m\u001b[0;34m\u001b[0m\u001b[0m\n\u001b[0m\u001b[1;32m    168\u001b[0m             \u001b[0;32mif\u001b[0m \u001b[0;32mnot\u001b[0m \u001b[0mcsp\u001b[0m\u001b[0;34m.\u001b[0m\u001b[0mcurr_domains\u001b[0m\u001b[0;34m[\u001b[0m\u001b[0mXi\u001b[0m\u001b[0;34m]\u001b[0m\u001b[0;34m:\u001b[0m\u001b[0;34m\u001b[0m\u001b[0m\n\u001b[1;32m    169\u001b[0m                 \u001b[0;32mreturn\u001b[0m \u001b[0;32mFalse\u001b[0m\u001b[0;34m\u001b[0m\u001b[0m\n",
      "\u001b[0;32m/home/ril2/Desktop/Pycharm/cs344-code/tools/aima/csp.py\u001b[0m in \u001b[0;36mrevise\u001b[0;34m(csp, Xi, Xj, removals)\u001b[0m\n\u001b[1;32m    179\u001b[0m     \u001b[0;32mfor\u001b[0m \u001b[0mx\u001b[0m \u001b[0;32min\u001b[0m \u001b[0mcsp\u001b[0m\u001b[0;34m.\u001b[0m\u001b[0mcurr_domains\u001b[0m\u001b[0;34m[\u001b[0m\u001b[0mXi\u001b[0m\u001b[0;34m]\u001b[0m\u001b[0;34m[\u001b[0m\u001b[0;34m:\u001b[0m\u001b[0;34m]\u001b[0m\u001b[0;34m:\u001b[0m\u001b[0;34m\u001b[0m\u001b[0m\n\u001b[1;32m    180\u001b[0m         \u001b[0;31m# If Xi=x conflicts with Xj=y for every possible y, eliminate Xi=x\u001b[0m\u001b[0;34m\u001b[0m\u001b[0;34m\u001b[0m\u001b[0m\n\u001b[0;32m--> 181\u001b[0;31m         \u001b[0;32mif\u001b[0m \u001b[0mall\u001b[0m\u001b[0;34m(\u001b[0m\u001b[0;32mnot\u001b[0m \u001b[0mcsp\u001b[0m\u001b[0;34m.\u001b[0m\u001b[0mconstraints\u001b[0m\u001b[0;34m(\u001b[0m\u001b[0mXi\u001b[0m\u001b[0;34m,\u001b[0m \u001b[0mx\u001b[0m\u001b[0;34m,\u001b[0m \u001b[0mXj\u001b[0m\u001b[0;34m,\u001b[0m \u001b[0my\u001b[0m\u001b[0;34m)\u001b[0m \u001b[0;32mfor\u001b[0m \u001b[0my\u001b[0m \u001b[0;32min\u001b[0m \u001b[0mcsp\u001b[0m\u001b[0;34m.\u001b[0m\u001b[0mcurr_domains\u001b[0m\u001b[0;34m[\u001b[0m\u001b[0mXj\u001b[0m\u001b[0;34m]\u001b[0m\u001b[0;34m)\u001b[0m\u001b[0;34m:\u001b[0m\u001b[0;34m\u001b[0m\u001b[0m\n\u001b[0m\u001b[1;32m    182\u001b[0m             \u001b[0mcsp\u001b[0m\u001b[0;34m.\u001b[0m\u001b[0mprune\u001b[0m\u001b[0;34m(\u001b[0m\u001b[0mXi\u001b[0m\u001b[0;34m,\u001b[0m \u001b[0mx\u001b[0m\u001b[0;34m,\u001b[0m \u001b[0mremovals\u001b[0m\u001b[0;34m)\u001b[0m\u001b[0;34m\u001b[0m\u001b[0m\n\u001b[1;32m    183\u001b[0m             \u001b[0mrevised\u001b[0m \u001b[0;34m=\u001b[0m \u001b[0;32mTrue\u001b[0m\u001b[0;34m\u001b[0m\u001b[0m\n",
      "\u001b[0;31mKeyError\u001b[0m: 'mwf0800'"
     ],
     "output_type": "error"
    }
   ],
   "source": [
    "\"\"\"\n",
    "AHHHHHHHHHH\n",
    "\"\"\"\n",
    "\n",
    "\n",
    "from csp import backtracking_search, parse_neighbors, CSP, min_conflicts, AC3\n",
    "\n",
    "def scheduler():\n",
    "\n",
    "    classes = \"CS232 CS108 CS212 CS112 CS336 CS344\".split()\n",
    "    profs = \"Adams VanderLinden Plantinga Schuurman Norman Nelsen\".split()\n",
    "    times = \"mwf0800 mwf0900 mwf1000 th1230\".split()\n",
    "    rooms = \"nh253 sb382\".split()\n",
    "\n",
    "    variables = classes\n",
    "\n",
    "    all_domains = []\n",
    "    for room in rooms:\n",
    "        for time in times:\n",
    "            for prof in profs:\n",
    "                all_domains.append(room + \" \" + time + \" \" + prof)\n",
    "\n",
    "    domains = {}\n",
    "    for var in variables:\n",
    "        domains[var] = all_domains\n",
    "\n",
    "    neighbors = parse_neighbors(\"\"\"CS344: nh253 mwf0800\"\"\", variables)\n",
    "    for type in [variables]:\n",
    "        for A in type:\n",
    "            for B in type:\n",
    "                if A != B:\n",
    "                    if B not in neighbors[A]:\n",
    "                        neighbors[A].append(B)\n",
    "                    if A not in neighbors[B]:\n",
    "                        neighbors[B].append(A)\n",
    "\n",
    "    def scheduler_constraint(A, a, B, b, recurse=0):\n",
    "\n",
    "        conflict = (a == b)\n",
    "\n",
    "        if(a.split()[0] == b.split()[0]) and (a.split()[2] == b.split()[2]):\n",
    "            return conflict\n",
    "\n",
    "        if(a.split()[1] == b.split()[1]) and (a.split()[2] == b.split()[2]):\n",
    "            return conflict\n",
    "\n",
    "        if recurse == 0:\n",
    "            return scheduler_constraint(B, b, A, a, 1)\n",
    "\n",
    "        return True\n",
    "\n",
    "    return CSP(variables, domains, neighbors, scheduler_constraint)\n",
    "\n",
    "\n",
    "# print(backtracking_search(scheduler()))\n",
    "# print(AC3(scheduler()))\n",
    "# print(min_conflicts(scheduler()))"
   ]
  },
  {
   "cell_type": "code",
   "execution_count": null,
   "metadata": {},
   "outputs": [],
   "source": []
  }
 ],
 "metadata": {
  "kernelspec": {
   "display_name": "Python 2",
   "language": "python",
   "name": "python2"
  },
  "language_info": {
   "codemirror_mode": {
    "name": "ipython",
    "version": 2
   },
   "file_extension": ".py",
   "mimetype": "text/x-python",
   "name": "python",
   "nbconvert_exporter": "python",
   "pygments_lexer": "ipython2",
   "version": "2.7.6"
  }
 },
 "nbformat": 4,
 "nbformat_minor": 0
}
