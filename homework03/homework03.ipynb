{
 "cells": [
  {
   "cell_type": "markdown",
   "metadata": {
    "collapsed": true
   },
   "source": [
    "Part 1"
   ]
  },
  {
   "cell_type": "markdown",
   "metadata": {},
   "source": [
    "A single layer, linear neural net cannot learn the XOR function. This is because XOR is not linearly separable, meaning if you draw a graph of the value it inputs, you cannot draw a straight line the perfectly divides the results in the correct fashion.  If we introduce another hidden layer, and allow for backpropagation to nudge the weights of the neurons, then we can reasonably predict that over time, we would find a non linear solution to the XOR function. "
   ]
  },
  {
   "cell_type": "markdown",
   "metadata": {},
   "source": [
    "Part 2"
   ]
  },
  {
   "cell_type": "markdown",
   "metadata": {},
   "source": [
    "First, we must load in the data from a CSV file. Pandas datasets come with a function shape, that tells us the dimensions of the data set with ease. "
   ]
  },
  {
   "cell_type": "code",
   "execution_count": 5,
   "metadata": {},
   "outputs": [
    {
     "name": "stdout",
     "output_type": "stream",
     "text": [
      "(506, 14)\n",
      "        crim    zn  indus  chas    nox     rm   age     dis  rad  tax  \\\n",
      "58   0.15445  25.0   5.13     0  0.453  6.145  29.2  7.8148    8  284   \n",
      "462  6.65492   0.0  18.10     0  0.713  6.317  83.0  2.7344   24  666   \n",
      "321  0.18159   0.0   7.38     0  0.493  6.376  54.3  4.5404    5  287   \n",
      "441  9.72418   0.0  18.10     0  0.740  6.406  97.2  2.0651   24  666   \n",
      "56   0.02055  85.0   0.74     0  0.410  6.383  35.7  9.1876    2  313   \n",
      "\n",
      "     ptratio       b  lstat  medv  \n",
      "58      19.7  390.68   6.86  23.3  \n",
      "462     20.2  396.90  13.99  19.5  \n",
      "321     19.6  396.90   6.87  23.1  \n",
      "441     20.2  385.96  19.52  17.1  \n",
      "56      17.3  396.90   5.77  24.7  \n"
     ]
    }
   ],
   "source": [
    "import pandas as pd\n",
    "import numpy as np\n",
    "\n",
    "boston_housing_dataframe = pd.read_csv(\"https://raw.githubusercontent.com/selva86/datasets/master/BostonHousing.csv\")\n",
    "boston_housing_dataframe = boston_housing_dataframe.reindex(np.random.permutation(boston_housing_dataframe.index))\n",
    "\n",
    "print(boston_housing_dataframe.shape)\n",
    "print(boston_housing_dataframe.head())"
   ]
  },
  {
   "cell_type": "markdown",
   "metadata": {},
   "source": [
    "You will notice I have reindex the data to randomize where each data point occurs. This is important when designing our training, testing, and validation sets."
   ]
  },
  {
   "cell_type": "markdown",
   "metadata": {},
   "source": [
    "Using sklearn and the function train_test_split, we can easily divide our data into training and testing, then divide the testing set further in a validation set, for sanity checking. "
   ]
  },
  {
   "cell_type": "code",
   "execution_count": 6,
   "metadata": {},
   "outputs": [
    {
     "name": "stdout",
     "output_type": "stream",
     "text": [
      "(404, 14)\n",
      "(81, 14)\n",
      "(21, 14)\n"
     ]
    }
   ],
   "source": [
    "from sklearn.model_selection import train_test_split\n",
    "\n",
    "trainSet, testSet = train_test_split(boston_housing_dataframe, test_size=0.2)\n",
    "testSet, validateSet = train_test_split(testSet, test_size=0.2)\n",
    "\n",
    "print(trainSet.shape)\n",
    "print(testSet.shape)\n",
    "print(validateSet.shape)"
   ]
  },
  {
   "cell_type": "markdown",
   "metadata": {},
   "source": [
    "A usefull synthetic feature might be realting crime to median house value. This could help determine bias towards land value in high-risk areas."
   ]
  },
  {
   "cell_type": "code",
   "execution_count": null,
   "metadata": {},
   "outputs": [],
   "source": [
    "boston_housing_dataframe[\"crime_in_poverty\"] = (\n",
    "    boston_housing_dataframe[\"crim\"] / boston_housing_dataframe[\"medv\"])\n"
   ]
  }
 ],
 "metadata": {
  "kernelspec": {
   "display_name": "Python 3",
   "language": "python",
   "name": "python3"
  },
  "language_info": {
   "codemirror_mode": {
    "name": "ipython",
    "version": 3
   },
   "file_extension": ".py",
   "mimetype": "text/x-python",
   "name": "python",
   "nbconvert_exporter": "python",
   "pygments_lexer": "ipython3",
   "version": "3.5.2"
  }
 },
 "nbformat": 4,
 "nbformat_minor": 1
}
